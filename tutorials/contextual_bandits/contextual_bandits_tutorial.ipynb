{
  "cells": [
    {
      "attachments": {},
      "cell_type": "markdown",
      "metadata": {},
      "source": [
        "## Contextual Bandits\n",
        "\n",
        "Here is a [better rendering](https://nbviewer.org/github/facebookresearch/Pearl/blob/main/tutorials/contextual_bandits/contextual_bandits_tutorial.ipynb) of this notebook on [nbviewer](https://nbviewer.org/)."
      ]
    },
    {
      "cell_type": "code",
      "execution_count": 9,
      "metadata": {
        "id": "8NNfwWXGvn_o",
        "output": {
          "id": 1088414048974898,
          "loadingStatus": "loaded"
        },
        "vscode": {
          "languageId": "python"
        }
      },
      "outputs": [
        {
          "name": "stderr",
          "output_type": "stream",
          "text": [
            "I0226 000749.255 magics.py:84] %autoreload was called with parameter_s='2'\n"
          ]
        },
        {
          "name": "stdout",
          "output_type": "stream",
          "text": [
            "The parsh.autoreload.magics extension is already loaded. To reload it, use:\n",
            "  %reload_ext parsh.autoreload.magics\n"
          ]
        }
      ],
      "source": [
        "%load_ext autoreload\n",
        "%autoreload 2"
      ]
    },
    {
      "attachments": {},
      "cell_type": "markdown",
      "metadata": {
        "id": "YY0f_c_WLNGP"
      },
      "source": [
        "## Installation\n",
        "If you haven't installed Pearl, please make sure you do so with the following cell. Otherwise, you can skip it."
      ]
    },
    {
      "cell_type": "code",
      "execution_count": null,
      "metadata": {
        "colab": {
          "base_uri": "https://localhost:8080/"
        },
        "id": "1uLHbYlegKX-",
        "outputId": "7b7ce54c-0dde-49bc-cc77-23519fd19027",
        "vscode": {
          "languageId": "python"
        }
      },
      "outputs": [],
      "source": [
        "%pip uninstall Pearl -y\n",
        "%rm -rf Pearl\n",
        "!git clone https://github.com/facebookresearch/Pearl.git\n",
        "%cd Pearl\n",
        "%pip install .\n",
        "%cd .."
      ]
    },
    {
      "cell_type": "markdown",
      "metadata": {
        "id": "nCSJf8nALNGQ"
      },
      "source": [
        "## Import Modules"
      ]
    },
    {
      "cell_type": "code",
      "execution_count": 10,
      "metadata": {
        "id": "vcb70ZC_h3OA",
        "output": {
          "id": 197396700124830,
          "loadingStatus": "loaded"
        },
        "vscode": {
          "languageId": "python"
        }
      },
      "outputs": [],
      "source": [
        "from pearl.utils.functional_utils.experimentation.set_seed import set_seed\n",
        "from pearl.action_representation_modules.one_hot_action_representation_module import OneHotActionTensorRepresentationModule\n",
        "from pearl.replay_buffers.sequential_decision_making.fifo_off_policy_replay_buffer import FIFOOffPolicyReplayBuffer\n",
        "from pearl.utils.functional_utils.train_and_eval.online_learning import online_learning\n",
        "from pearl.pearl_agent import PearlAgent\n",
        "from pearl.utils.uci_data import download_uci_data\n",
        "from pearl.utils.instantiations.environments.contextual_bandit_uci_environment import (\n",
        "    SLCBEnvironment,\n",
        ")\n",
        "from pearl.policy_learners.exploration_modules.contextual_bandits.squarecb_exploration import SquareCBExploration\n",
        "from pearl.policy_learners.exploration_modules.contextual_bandits.ucb_exploration import (\n",
        "    UCBExploration,\n",
        ")\n",
        "from pearl.policy_learners.contextual_bandits.neural_bandit import NeuralBandit\n",
        "from pearl.policy_learners.contextual_bandits.neural_linear_bandit import (\n",
        "    NeuralLinearBandit,\n",
        ")\n",
        "import torch\n",
        "import matplotlib.pyplot as plt\n",
        "import numpy as np\n",
        "import os\n",
        "\n",
        "set_seed(0)"
      ]
    },
    {
      "attachments": {},
      "cell_type": "markdown",
      "metadata": {
        "id": "A2756RO8LNGR"
      },
      "source": [
        "## Load Environment\n",
        "The experiment below tests contextual bandits by using an environment accessing UCI datasets (https://archive.ics.uci.edu/datasets).\n",
        "\n",
        "The UCI datasets span a wide variety of prediction tasks. We use these tasks to construct a contexual bandit environment in which an agent receives an expected reward of 1 if it correctly labels a data point and 0 otherwise. Pearl currently supports the following datasets: pendigits, letter, satimage, yeast. Additional ones can be readily added.\n",
        "\n",
        "In the following experiment we test different types of contextual bandits algorithms on the pendigits UCI dataset."
      ]
    },
    {
      "cell_type": "code",
      "execution_count": 11,
      "metadata": {
        "colab": {
          "base_uri": "https://localhost:8080/"
        },
        "id": "g1VHtmldi3A2",
        "outputId": "838f8462-7083-4ce4-ebdf-ed6fc24f436b",
        "vscode": {
          "languageId": "python"
        }
      },
      "outputs": [],
      "source": [
        "# Download UCI dataset if it doesn't exist\n",
        "uci_data_path = \"./utils/instantiations/environments/uci_datasets\"\n",
        "if not os.path.exists(uci_data_path):\n",
        "    os.makedirs(uci_data_path)\n",
        "    download_uci_data(data_path=uci_data_path)\n",
        "\n",
        "# Build CB environment using the pendigits UCI dataset\n",
        "env = SLCBEnvironment(path_filename=os.path.join(uci_data_path, \"pendigits/pendigits.tra\"),\n",
        "    action_embeddings=\"discrete\",\n",
        "    delim_whitespace=False,\n",
        "    ind_to_drop=[],\n",
        "    target_column=16,\n",
        ")\n",
        "\n",
        "# experiment code\n",
        "number_of_steps = 10_000  # number of steps used for learning\n",
        "record_period = 400  # number of steps in between recordings of returns (rewards) in the `info` dict returned by `online_learning`"
      ]
    },
    {
      "attachments": {},
      "cell_type": "markdown",
      "metadata": {
        "id": "UYIoDAGSLNGR"
      },
      "source": [
        "## Contextual Bandits learners\n",
        "The following sections describe the neural versions of SquareCB and LinUCB implemented in Pearl.\n",
        "\n",
        "## Contextual Bandits learners: SquareCB\n",
        "\n",
        "The SquareCB algorithm requires only a regression model with which it learns the reward function $\\widehat{r}$. It then executes the following policy:\n",
        "$$\n",
        "\\widehat{a}_*\\in \\arg\\max_a\\widehat{r}(x,a)\\\\\n",
        "\\widehat{r}_*\\in \\max_a\\widehat{r}(x,a)\\\\\n",
        "\\text{If $a\\neq \\widehat{a}_*$}: \\pi(a,x)= \\frac{1}{A + \\gamma (\\widehat{r}_* - \\widehat{r}(x,a))}\\\\\n",
        "\\text{If $a= \\widehat{a}_*$}: \\pi(a,x) = 1-\\sum_{a'\\neq \\widehat{a}_*}\\pi(a',x).\n",
        "$$\n",
        "This policy balances exploration and exploitation in an intelligent way.\n",
        "\n",
        "To use the SquareCB algorithm in Pearl we use the `NeuralBandit` policy learner, which estimates the reward function with a neural architecture. Given an estimated reward model, we then instantiate the exploration module with `SquareCBExploration` module.\n",
        "\n",
        "To further highlight the versatility of the modular design of Pearl, we use the `OneHotActionTensorRepresentationModule` as the _action representation module_, which transforms categorical actions in a set of integers $\\{1,2,\\dots,N\\}$ to the corresponding one-hot vector.\n"
      ]
    },
    {
      "cell_type": "code",
      "execution_count": 12,
      "metadata": {
        "colab": {
          "base_uri": "https://localhost:8080/",
          "height": 1000
        },
        "id": "kulkpFAvnOQx",
        "output": {
          "id": 199093223282612,
          "loadingStatus": "loaded"
        },
        "outputId": "7c93f477-d8ec-4a5a-91d9-1c7fd51f6557",
        "vscode": {
          "languageId": "python"
        }
      },
      "outputs": [
        {
          "name": "stdout",
          "output_type": "stream",
          "text": [
            "episode 100, step 100, agent=PearlAgent with NeuralBandit, FIFOOffPolicyReplayBuffer, env=Contextual bandits with CB datasets\n",
            "return: 0.9383167028427124\n",
            "episode 200, step 200, agent=PearlAgent with NeuralBandit, FIFOOffPolicyReplayBuffer, env=Contextual bandits with CB datasets\n",
            "return: -0.02807554602622986\n",
            "episode 300, step 300, agent=PearlAgent with NeuralBandit, FIFOOffPolicyReplayBuffer, env=Contextual bandits with CB datasets\n",
            "return: 0.8958601355552673\n",
            "episode 400, step 400, agent=PearlAgent with NeuralBandit, FIFOOffPolicyReplayBuffer, env=Contextual bandits with CB datasets\n",
            "return: 1.0610344409942627\n",
            "episode 500, step 500, agent=PearlAgent with NeuralBandit, FIFOOffPolicyReplayBuffer, env=Contextual bandits with CB datasets\n",
            "return: 0.9887306094169617\n",
            "episode 600, step 600, agent=PearlAgent with NeuralBandit, FIFOOffPolicyReplayBuffer, env=Contextual bandits with CB datasets\n",
            "return: 1.0786700248718262\n",
            "episode 700, step 700, agent=PearlAgent with NeuralBandit, FIFOOffPolicyReplayBuffer, env=Contextual bandits with CB datasets\n",
            "return: 0.9041118025779724\n",
            "episode 800, step 800, agent=PearlAgent with NeuralBandit, FIFOOffPolicyReplayBuffer, env=Contextual bandits with CB datasets\n",
            "return: 1.043103814125061\n",
            "episode 900, step 900, agent=PearlAgent with NeuralBandit, FIFOOffPolicyReplayBuffer, env=Contextual bandits with CB datasets\n",
            "return: -0.09173823893070221\n",
            "episode 1000, step 1000, agent=PearlAgent with NeuralBandit, FIFOOffPolicyReplayBuffer, env=Contextual bandits with CB datasets\n",
            "return: 0.8946926593780518\n",
            "episode 1100, step 1100, agent=PearlAgent with NeuralBandit, FIFOOffPolicyReplayBuffer, env=Contextual bandits with CB datasets\n",
            "return: 1.0060310363769531\n",
            "episode 1200, step 1200, agent=PearlAgent with NeuralBandit, FIFOOffPolicyReplayBuffer, env=Contextual bandits with CB datasets\n",
            "return: -0.0518234558403492\n",
            "episode 1300, step 1300, agent=PearlAgent with NeuralBandit, FIFOOffPolicyReplayBuffer, env=Contextual bandits with CB datasets\n",
            "return: 1.1785880327224731\n",
            "episode 1400, step 1400, agent=PearlAgent with NeuralBandit, FIFOOffPolicyReplayBuffer, env=Contextual bandits with CB datasets\n",
            "return: 1.2267327308654785\n",
            "episode 1500, step 1500, agent=PearlAgent with NeuralBandit, FIFOOffPolicyReplayBuffer, env=Contextual bandits with CB datasets\n",
            "return: 1.0809532403945923\n",
            "episode 1600, step 1600, agent=PearlAgent with NeuralBandit, FIFOOffPolicyReplayBuffer, env=Contextual bandits with CB datasets\n",
            "return: 0.03393594175577164\n",
            "episode 1700, step 1700, agent=PearlAgent with NeuralBandit, FIFOOffPolicyReplayBuffer, env=Contextual bandits with CB datasets\n",
            "return: 1.0515271425247192\n",
            "episode 1800, step 1800, agent=PearlAgent with NeuralBandit, FIFOOffPolicyReplayBuffer, env=Contextual bandits with CB datasets\n",
            "return: 1.0283582210540771\n",
            "episode 1900, step 1900, agent=PearlAgent with NeuralBandit, FIFOOffPolicyReplayBuffer, env=Contextual bandits with CB datasets\n",
            "return: -0.047106582671403885\n",
            "episode 2000, step 2000, agent=PearlAgent with NeuralBandit, FIFOOffPolicyReplayBuffer, env=Contextual bandits with CB datasets\n",
            "return: 0.8615770936012268\n",
            "episode 2100, step 2100, agent=PearlAgent with NeuralBandit, FIFOOffPolicyReplayBuffer, env=Contextual bandits with CB datasets\n",
            "return: 0.9246430397033691\n",
            "episode 2200, step 2200, agent=PearlAgent with NeuralBandit, FIFOOffPolicyReplayBuffer, env=Contextual bandits with CB datasets\n",
            "return: 1.0766102075576782\n",
            "episode 2300, step 2300, agent=PearlAgent with NeuralBandit, FIFOOffPolicyReplayBuffer, env=Contextual bandits with CB datasets\n",
            "return: 0.9038422703742981\n",
            "episode 2400, step 2400, agent=PearlAgent with NeuralBandit, FIFOOffPolicyReplayBuffer, env=Contextual bandits with CB datasets\n",
            "return: 1.0450562238693237\n",
            "episode 2500, step 2500, agent=PearlAgent with NeuralBandit, FIFOOffPolicyReplayBuffer, env=Contextual bandits with CB datasets\n",
            "return: 1.0435271263122559\n",
            "episode 2600, step 2600, agent=PearlAgent with NeuralBandit, FIFOOffPolicyReplayBuffer, env=Contextual bandits with CB datasets\n",
            "return: 1.1526210308074951\n",
            "episode 2700, step 2700, agent=PearlAgent with NeuralBandit, FIFOOffPolicyReplayBuffer, env=Contextual bandits with CB datasets\n",
            "return: 0.9127950072288513\n",
            "episode 2800, step 2800, agent=PearlAgent with NeuralBandit, FIFOOffPolicyReplayBuffer, env=Contextual bandits with CB datasets\n",
            "return: 0.9871799349784851\n",
            "episode 2900, step 2900, agent=PearlAgent with NeuralBandit, FIFOOffPolicyReplayBuffer, env=Contextual bandits with CB datasets\n",
            "return: -0.01832619681954384\n",
            "episode 3000, step 3000, agent=PearlAgent with NeuralBandit, FIFOOffPolicyReplayBuffer, env=Contextual bandits with CB datasets\n",
            "return: 1.168209195137024\n",
            "episode 3100, step 3100, agent=PearlAgent with NeuralBandit, FIFOOffPolicyReplayBuffer, env=Contextual bandits with CB datasets\n",
            "return: 0.897968053817749\n",
            "episode 3200, step 3200, agent=PearlAgent with NeuralBandit, FIFOOffPolicyReplayBuffer, env=Contextual bandits with CB datasets\n",
            "return: -0.05972288176417351\n",
            "episode 3300, step 3300, agent=PearlAgent with NeuralBandit, FIFOOffPolicyReplayBuffer, env=Contextual bandits with CB datasets\n",
            "return: 0.9089733362197876\n",
            "episode 3400, step 3400, agent=PearlAgent with NeuralBandit, FIFOOffPolicyReplayBuffer, env=Contextual bandits with CB datasets\n",
            "return: 1.0552352666854858\n",
            "episode 3500, step 3500, agent=PearlAgent with NeuralBandit, FIFOOffPolicyReplayBuffer, env=Contextual bandits with CB datasets\n",
            "return: -0.04165832698345184\n",
            "episode 3600, step 3600, agent=PearlAgent with NeuralBandit, FIFOOffPolicyReplayBuffer, env=Contextual bandits with CB datasets\n",
            "return: 1.1413013935089111\n",
            "episode 3700, step 3700, agent=PearlAgent with NeuralBandit, FIFOOffPolicyReplayBuffer, env=Contextual bandits with CB datasets\n",
            "return: 1.0163745880126953\n",
            "episode 3800, step 3800, agent=PearlAgent with NeuralBandit, FIFOOffPolicyReplayBuffer, env=Contextual bandits with CB datasets\n",
            "return: 1.0398694276809692\n",
            "episode 3900, step 3900, agent=PearlAgent with NeuralBandit, FIFOOffPolicyReplayBuffer, env=Contextual bandits with CB datasets\n",
            "return: 1.008664608001709\n",
            "episode 4000, step 4000, agent=PearlAgent with NeuralBandit, FIFOOffPolicyReplayBuffer, env=Contextual bandits with CB datasets\n",
            "return: 0.015700124204158783\n",
            "episode 4100, step 4100, agent=PearlAgent with NeuralBandit, FIFOOffPolicyReplayBuffer, env=Contextual bandits with CB datasets\n",
            "return: 1.0684829950332642\n",
            "episode 4200, step 4200, agent=PearlAgent with NeuralBandit, FIFOOffPolicyReplayBuffer, env=Contextual bandits with CB datasets\n",
            "return: 0.8980206251144409\n",
            "episode 4300, step 4300, agent=PearlAgent with NeuralBandit, FIFOOffPolicyReplayBuffer, env=Contextual bandits with CB datasets\n",
            "return: 0.12766113877296448\n",
            "episode 4400, step 4400, agent=PearlAgent with NeuralBandit, FIFOOffPolicyReplayBuffer, env=Contextual bandits with CB datasets\n",
            "return: 1.1071901321411133\n",
            "episode 4500, step 4500, agent=PearlAgent with NeuralBandit, FIFOOffPolicyReplayBuffer, env=Contextual bandits with CB datasets\n",
            "return: 1.04115629196167\n",
            "episode 4600, step 4600, agent=PearlAgent with NeuralBandit, FIFOOffPolicyReplayBuffer, env=Contextual bandits with CB datasets\n",
            "return: 1.0495786666870117\n",
            "episode 4700, step 4700, agent=PearlAgent with NeuralBandit, FIFOOffPolicyReplayBuffer, env=Contextual bandits with CB datasets\n",
            "return: 1.0217126607894897\n",
            "episode 4800, step 4800, agent=PearlAgent with NeuralBandit, FIFOOffPolicyReplayBuffer, env=Contextual bandits with CB datasets\n",
            "return: 0.9035794138908386\n",
            "episode 4900, step 4900, agent=PearlAgent with NeuralBandit, FIFOOffPolicyReplayBuffer, env=Contextual bandits with CB datasets\n",
            "return: -0.028559405356645584\n",
            "episode 5000, step 5000, agent=PearlAgent with NeuralBandit, FIFOOffPolicyReplayBuffer, env=Contextual bandits with CB datasets\n",
            "return: 1.05193293094635\n",
            "episode 5100, step 5100, agent=PearlAgent with NeuralBandit, FIFOOffPolicyReplayBuffer, env=Contextual bandits with CB datasets\n",
            "return: 0.9203135371208191\n",
            "episode 5200, step 5200, agent=PearlAgent with NeuralBandit, FIFOOffPolicyReplayBuffer, env=Contextual bandits with CB datasets\n",
            "return: 0.8581279516220093\n",
            "episode 5300, step 5300, agent=PearlAgent with NeuralBandit, FIFOOffPolicyReplayBuffer, env=Contextual bandits with CB datasets\n",
            "return: 1.070873498916626\n",
            "episode 5400, step 5400, agent=PearlAgent with NeuralBandit, FIFOOffPolicyReplayBuffer, env=Contextual bandits with CB datasets\n",
            "return: 0.8977102637290955\n",
            "episode 5500, step 5500, agent=PearlAgent with NeuralBandit, FIFOOffPolicyReplayBuffer, env=Contextual bandits with CB datasets\n",
            "return: 1.2177412509918213\n",
            "episode 5600, step 5600, agent=PearlAgent with NeuralBandit, FIFOOffPolicyReplayBuffer, env=Contextual bandits with CB datasets\n",
            "return: 0.030576098710298538\n",
            "episode 5700, step 5700, agent=PearlAgent with NeuralBandit, FIFOOffPolicyReplayBuffer, env=Contextual bandits with CB datasets\n",
            "return: 0.0658126100897789\n",
            "episode 5800, step 5800, agent=PearlAgent with NeuralBandit, FIFOOffPolicyReplayBuffer, env=Contextual bandits with CB datasets\n",
            "return: 1.0631651878356934\n",
            "episode 5900, step 5900, agent=PearlAgent with NeuralBandit, FIFOOffPolicyReplayBuffer, env=Contextual bandits with CB datasets\n",
            "return: 0.09474840760231018\n",
            "episode 6000, step 6000, agent=PearlAgent with NeuralBandit, FIFOOffPolicyReplayBuffer, env=Contextual bandits with CB datasets\n",
            "return: 0.9607197046279907\n",
            "episode 6100, step 6100, agent=PearlAgent with NeuralBandit, FIFOOffPolicyReplayBuffer, env=Contextual bandits with CB datasets\n",
            "return: 0.8860517144203186\n",
            "episode 6200, step 6200, agent=PearlAgent with NeuralBandit, FIFOOffPolicyReplayBuffer, env=Contextual bandits with CB datasets\n",
            "return: 0.9716128706932068\n",
            "episode 6300, step 6300, agent=PearlAgent with NeuralBandit, FIFOOffPolicyReplayBuffer, env=Contextual bandits with CB datasets\n",
            "return: 0.9121010303497314\n",
            "episode 6400, step 6400, agent=PearlAgent with NeuralBandit, FIFOOffPolicyReplayBuffer, env=Contextual bandits with CB datasets\n",
            "return: 0.9102794528007507\n",
            "episode 6500, step 6500, agent=PearlAgent with NeuralBandit, FIFOOffPolicyReplayBuffer, env=Contextual bandits with CB datasets\n",
            "return: 0.8850391507148743\n",
            "episode 6600, step 6600, agent=PearlAgent with NeuralBandit, FIFOOffPolicyReplayBuffer, env=Contextual bandits with CB datasets\n",
            "return: 0.8967600464820862\n",
            "episode 6700, step 6700, agent=PearlAgent with NeuralBandit, FIFOOffPolicyReplayBuffer, env=Contextual bandits with CB datasets\n",
            "return: 1.0181986093521118\n",
            "episode 6800, step 6800, agent=PearlAgent with NeuralBandit, FIFOOffPolicyReplayBuffer, env=Contextual bandits with CB datasets\n",
            "return: -0.04068313166499138\n",
            "episode 6900, step 6900, agent=PearlAgent with NeuralBandit, FIFOOffPolicyReplayBuffer, env=Contextual bandits with CB datasets\n",
            "return: 1.0694713592529297\n",
            "episode 7000, step 7000, agent=PearlAgent with NeuralBandit, FIFOOffPolicyReplayBuffer, env=Contextual bandits with CB datasets\n",
            "return: 1.0337671041488647\n",
            "episode 7100, step 7100, agent=PearlAgent with NeuralBandit, FIFOOffPolicyReplayBuffer, env=Contextual bandits with CB datasets\n",
            "return: 0.9239311814308167\n",
            "episode 7200, step 7200, agent=PearlAgent with NeuralBandit, FIFOOffPolicyReplayBuffer, env=Contextual bandits with CB datasets\n",
            "return: 1.0144273042678833\n",
            "episode 7300, step 7300, agent=PearlAgent with NeuralBandit, FIFOOffPolicyReplayBuffer, env=Contextual bandits with CB datasets\n",
            "return: 0.8364745378494263\n",
            "episode 7400, step 7400, agent=PearlAgent with NeuralBandit, FIFOOffPolicyReplayBuffer, env=Contextual bandits with CB datasets\n",
            "return: 1.0130293369293213\n",
            "episode 7500, step 7500, agent=PearlAgent with NeuralBandit, FIFOOffPolicyReplayBuffer, env=Contextual bandits with CB datasets\n",
            "return: 0.17895568907260895\n",
            "episode 7600, step 7600, agent=PearlAgent with NeuralBandit, FIFOOffPolicyReplayBuffer, env=Contextual bandits with CB datasets\n",
            "return: 0.8961504697799683\n",
            "episode 7700, step 7700, agent=PearlAgent with NeuralBandit, FIFOOffPolicyReplayBuffer, env=Contextual bandits with CB datasets\n",
            "return: 0.793696403503418\n",
            "episode 7800, step 7800, agent=PearlAgent with NeuralBandit, FIFOOffPolicyReplayBuffer, env=Contextual bandits with CB datasets\n",
            "return: 0.9645991325378418\n",
            "episode 7900, step 7900, agent=PearlAgent with NeuralBandit, FIFOOffPolicyReplayBuffer, env=Contextual bandits with CB datasets\n",
            "return: 1.0810260772705078\n",
            "episode 8000, step 8000, agent=PearlAgent with NeuralBandit, FIFOOffPolicyReplayBuffer, env=Contextual bandits with CB datasets\n",
            "return: 0.9735615849494934\n",
            "episode 8100, step 8100, agent=PearlAgent with NeuralBandit, FIFOOffPolicyReplayBuffer, env=Contextual bandits with CB datasets\n",
            "return: 1.0695842504501343\n",
            "episode 8200, step 8200, agent=PearlAgent with NeuralBandit, FIFOOffPolicyReplayBuffer, env=Contextual bandits with CB datasets\n",
            "return: 0.73900306224823\n",
            "episode 8300, step 8300, agent=PearlAgent with NeuralBandit, FIFOOffPolicyReplayBuffer, env=Contextual bandits with CB datasets\n",
            "return: 1.0989625453948975\n",
            "episode 8400, step 8400, agent=PearlAgent with NeuralBandit, FIFOOffPolicyReplayBuffer, env=Contextual bandits with CB datasets\n",
            "return: 0.16722330451011658\n",
            "episode 8500, step 8500, agent=PearlAgent with NeuralBandit, FIFOOffPolicyReplayBuffer, env=Contextual bandits with CB datasets\n",
            "return: 1.0237590074539185\n",
            "episode 8600, step 8600, agent=PearlAgent with NeuralBandit, FIFOOffPolicyReplayBuffer, env=Contextual bandits with CB datasets\n",
            "return: 0.9829747080802917\n",
            "episode 8700, step 8700, agent=PearlAgent with NeuralBandit, FIFOOffPolicyReplayBuffer, env=Contextual bandits with CB datasets\n",
            "return: 1.2072710990905762\n",
            "episode 8800, step 8800, agent=PearlAgent with NeuralBandit, FIFOOffPolicyReplayBuffer, env=Contextual bandits with CB datasets\n",
            "return: -0.06279207766056061\n",
            "episode 8900, step 8900, agent=PearlAgent with NeuralBandit, FIFOOffPolicyReplayBuffer, env=Contextual bandits with CB datasets\n",
            "return: 0.9268348813056946\n",
            "episode 9000, step 9000, agent=PearlAgent with NeuralBandit, FIFOOffPolicyReplayBuffer, env=Contextual bandits with CB datasets\n",
            "return: 1.0650581121444702\n",
            "episode 9100, step 9100, agent=PearlAgent with NeuralBandit, FIFOOffPolicyReplayBuffer, env=Contextual bandits with CB datasets\n",
            "return: 1.1822041273117065\n",
            "episode 9200, step 9200, agent=PearlAgent with NeuralBandit, FIFOOffPolicyReplayBuffer, env=Contextual bandits with CB datasets\n",
            "return: 0.8816660046577454\n",
            "episode 9300, step 9300, agent=PearlAgent with NeuralBandit, FIFOOffPolicyReplayBuffer, env=Contextual bandits with CB datasets\n",
            "return: -0.03679642081260681\n",
            "episode 9400, step 9400, agent=PearlAgent with NeuralBandit, FIFOOffPolicyReplayBuffer, env=Contextual bandits with CB datasets\n",
            "return: 1.002679705619812\n",
            "episode 9500, step 9500, agent=PearlAgent with NeuralBandit, FIFOOffPolicyReplayBuffer, env=Contextual bandits with CB datasets\n",
            "return: 0.9886403679847717\n",
            "episode 9600, step 9600, agent=PearlAgent with NeuralBandit, FIFOOffPolicyReplayBuffer, env=Contextual bandits with CB datasets\n",
            "return: 1.0444495677947998\n",
            "episode 9700, step 9700, agent=PearlAgent with NeuralBandit, FIFOOffPolicyReplayBuffer, env=Contextual bandits with CB datasets\n",
            "return: 0.9364856481552124\n",
            "episode 9800, step 9800, agent=PearlAgent with NeuralBandit, FIFOOffPolicyReplayBuffer, env=Contextual bandits with CB datasets\n",
            "return: 1.0458176136016846\n",
            "episode 9900, step 9900, agent=PearlAgent with NeuralBandit, FIFOOffPolicyReplayBuffer, env=Contextual bandits with CB datasets\n",
            "return: 1.0825984477996826\n",
            "episode 10000, step 10000, agent=PearlAgent with NeuralBandit, FIFOOffPolicyReplayBuffer, env=Contextual bandits with CB datasets\n",
            "return: 0.9300178289413452\n"
          ]
        },
        {
          "data": {
            "image/png": "[encoded data removed]",
            "text/plain": [
              "<Figure size 1500x1000 with 1 Axes>"
            ]
          },
          "metadata": {},
          "output_type": "display_data"
        }
      ],
      "source": [
        "# Create a Neural SquareCB pearl agent with one-hot action representation\n",
        "\n",
        "action_representation_module = OneHotActionTensorRepresentationModule(\n",
        "    max_number_actions= env._action_space.n,\n",
        ")\n",
        "\n",
        "agent = PearlAgent(\n",
        "    policy_learner=NeuralBandit(\n",
        "        feature_dim = env.observation_dim + env._action_space.n,\n",
        "        hidden_dims=[64, 16],\n",
        "        training_rounds=50,\n",
        "        action_representation_module=action_representation_module,\n",
        "        exploration_module=SquareCBExploration(gamma = env.observation_dim * env._action_space.n * number_of_steps)\n",
        "    ),\n",
        "    replay_buffer=FIFOOffPolicyReplayBuffer(100_000),\n",
        "    device_id=-1,\n",
        ")\n",
        "\n",
        "info = online_learning(\n",
        "    agent=agent,\n",
        "    env=env,\n",
        "    number_of_steps=number_of_steps,\n",
        "    print_every_x_steps=100,\n",
        "    record_period=record_period,\n",
        "    learn_after_episode=True,\n",
        ")\n",
        "\n",
        "torch.save(info[\"return\"], \"SquareCB-return.pt\")\n",
        "plt.plot(record_period * np.arange(len(info[\"return\"])), info[\"return\"], label=\"SquareCB\")\n",
        "plt.xlabel(\"time step\")\n",
        "plt.ylabel(\"return\")\n",
        "plt.legend()\n",
        "plt.show()"
      ]
    },
    {
      "attachments": {},
      "cell_type": "markdown",
      "metadata": {
        "id": "cjLo_VzyLNGR"
      },
      "source": [
        "## Contextual Bandits learners: LinUCB\n",
        "\n",
        "Next, we describe how to use the neural version of the LinUCB algorithm with Pearl, which uses UCB exploration with neural architectures. LinUCB and its neural version are generalizations of the seminal Upper Confidence Bound (UCB) algorithm. Both execute a policy of the following form:\n",
        "$$\n",
        "\\pi(a,x) \\in \\arg\\max_a \\widehat{r}(x,a) + \\mathrm{score}(x,a),\n",
        "$$\n",
        "namely, both use a function that estimates the expected reward with an additional bonus term. This function quantifies the potential of choosing an action given a certain context. Given features $\\phi(x,a)$ determined from context $x$ and action $a$, we estimate the score function in the linear case in the following way:\n",
        "$$\n",
        "\\mathrm{score}(x,a) = \\alpha ||\\phi(x,a) ||_{A^{-1}}\\\\\n",
        "\\text{where } A= \\lambda I + \\sum_{n\\leq t} \\phi(x_n,a_n)\\phi^T(x_n,a_n).\n",
        "$$\n",
        "\n",
        "To use the LinUCB algorithm in Pearl, we use the `NeuralLinearBandit` policy learner module with the exploration module set to `UCBExploration`:"
      ]
    },
    {
      "cell_type": "code",
      "execution_count": 13,
      "metadata": {
        "colab": {
          "background_save": true,
          "base_uri": "https://localhost:8080/"
        },
        "id": "cDauzO74nS4c",
        "output": {
          "id": 926709578989266,
          "loadingStatus": "loaded"
        },
        "outputId": "90febc78-d0be-4793-e6de-6dc4d4dcd0df",
        "vscode": {
          "languageId": "python"
        }
      },
      "outputs": [
        {
          "name": "stdout",
          "output_type": "stream",
          "text": [
            "episode 100, step 100, agent=PearlAgent with NeuralLinearBandit, FIFOOffPolicyReplayBuffer, env=Contextual bandits with CB datasets\n",
            "return: 0.13284307718276978\n",
            "episode 200, step 200, agent=PearlAgent with NeuralLinearBandit, FIFOOffPolicyReplayBuffer, env=Contextual bandits with CB datasets\n",
            "return: 0.0368531309068203\n",
            "episode 300, step 300, agent=PearlAgent with NeuralLinearBandit, FIFOOffPolicyReplayBuffer, env=Contextual bandits with CB datasets\n",
            "return: 0.08063597232103348\n",
            "episode 400, step 400, agent=PearlAgent with NeuralLinearBandit, FIFOOffPolicyReplayBuffer, env=Contextual bandits with CB datasets\n",
            "return: 1.0398333072662354\n",
            "episode 500, step 500, agent=PearlAgent with NeuralLinearBandit, FIFOOffPolicyReplayBuffer, env=Contextual bandits with CB datasets\n",
            "return: 0.0563870370388031\n",
            "episode 600, step 600, agent=PearlAgent with NeuralLinearBandit, FIFOOffPolicyReplayBuffer, env=Contextual bandits with CB datasets\n",
            "return: 1.0251115560531616\n",
            "episode 700, step 700, agent=PearlAgent with NeuralLinearBandit, FIFOOffPolicyReplayBuffer, env=Contextual bandits with CB datasets\n",
            "return: 1.139564037322998\n",
            "episode 800, step 800, agent=PearlAgent with NeuralLinearBandit, FIFOOffPolicyReplayBuffer, env=Contextual bandits with CB datasets\n",
            "return: -0.07180237025022507\n",
            "episode 900, step 900, agent=PearlAgent with NeuralLinearBandit, FIFOOffPolicyReplayBuffer, env=Contextual bandits with CB datasets\n",
            "return: 1.0409554243087769\n",
            "episode 1000, step 1000, agent=PearlAgent with NeuralLinearBandit, FIFOOffPolicyReplayBuffer, env=Contextual bandits with CB datasets\n",
            "return: 1.0543782711029053\n",
            "episode 1100, step 1100, agent=PearlAgent with NeuralLinearBandit, FIFOOffPolicyReplayBuffer, env=Contextual bandits with CB datasets\n",
            "return: 0.8060013651847839\n",
            "episode 1200, step 1200, agent=PearlAgent with NeuralLinearBandit, FIFOOffPolicyReplayBuffer, env=Contextual bandits with CB datasets\n",
            "return: 0.8930542469024658\n",
            "episode 1300, step 1300, agent=PearlAgent with NeuralLinearBandit, FIFOOffPolicyReplayBuffer, env=Contextual bandits with CB datasets\n",
            "return: 1.0274744033813477\n",
            "episode 1400, step 1400, agent=PearlAgent with NeuralLinearBandit, FIFOOffPolicyReplayBuffer, env=Contextual bandits with CB datasets\n",
            "return: 1.041968822479248\n",
            "episode 1500, step 1500, agent=PearlAgent with NeuralLinearBandit, FIFOOffPolicyReplayBuffer, env=Contextual bandits with CB datasets\n",
            "return: 1.0363296270370483\n",
            "episode 1600, step 1600, agent=PearlAgent with NeuralLinearBandit, FIFOOffPolicyReplayBuffer, env=Contextual bandits with CB datasets\n",
            "return: -0.2376021444797516\n",
            "episode 1700, step 1700, agent=PearlAgent with NeuralLinearBandit, FIFOOffPolicyReplayBuffer, env=Contextual bandits with CB datasets\n",
            "return: -0.09300044924020767\n",
            "episode 1800, step 1800, agent=PearlAgent with NeuralLinearBandit, FIFOOffPolicyReplayBuffer, env=Contextual bandits with CB datasets\n",
            "return: 1.0560853481292725\n",
            "episode 1900, step 1900, agent=PearlAgent with NeuralLinearBandit, FIFOOffPolicyReplayBuffer, env=Contextual bandits with CB datasets\n",
            "return: 0.9857900142669678\n",
            "episode 2000, step 2000, agent=PearlAgent with NeuralLinearBandit, FIFOOffPolicyReplayBuffer, env=Contextual bandits with CB datasets\n",
            "return: 0.96579909324646\n",
            "episode 2100, step 2100, agent=PearlAgent with NeuralLinearBandit, FIFOOffPolicyReplayBuffer, env=Contextual bandits with CB datasets\n",
            "return: 0.9380916357040405\n",
            "episode 2200, step 2200, agent=PearlAgent with NeuralLinearBandit, FIFOOffPolicyReplayBuffer, env=Contextual bandits with CB datasets\n",
            "return: 0.8829371333122253\n",
            "episode 2300, step 2300, agent=PearlAgent with NeuralLinearBandit, FIFOOffPolicyReplayBuffer, env=Contextual bandits with CB datasets\n",
            "return: 1.0698895454406738\n",
            "episode 2400, step 2400, agent=PearlAgent with NeuralLinearBandit, FIFOOffPolicyReplayBuffer, env=Contextual bandits with CB datasets\n",
            "return: -0.021227287128567696\n",
            "episode 2500, step 2500, agent=PearlAgent with NeuralLinearBandit, FIFOOffPolicyReplayBuffer, env=Contextual bandits with CB datasets\n",
            "return: 0.9145146012306213\n",
            "episode 2600, step 2600, agent=PearlAgent with NeuralLinearBandit, FIFOOffPolicyReplayBuffer, env=Contextual bandits with CB datasets\n",
            "return: 0.08243873715400696\n",
            "episode 2700, step 2700, agent=PearlAgent with NeuralLinearBandit, FIFOOffPolicyReplayBuffer, env=Contextual bandits with CB datasets\n",
            "return: 1.0159893035888672\n",
            "episode 2800, step 2800, agent=PearlAgent with NeuralLinearBandit, FIFOOffPolicyReplayBuffer, env=Contextual bandits with CB datasets\n",
            "return: 0.994200587272644\n",
            "episode 2900, step 2900, agent=PearlAgent with NeuralLinearBandit, FIFOOffPolicyReplayBuffer, env=Contextual bandits with CB datasets\n",
            "return: 1.0534207820892334\n",
            "episode 3000, step 3000, agent=PearlAgent with NeuralLinearBandit, FIFOOffPolicyReplayBuffer, env=Contextual bandits with CB datasets\n",
            "return: 0.9869299530982971\n",
            "episode 3100, step 3100, agent=PearlAgent with NeuralLinearBandit, FIFOOffPolicyReplayBuffer, env=Contextual bandits with CB datasets\n",
            "return: 1.1921932697296143\n",
            "episode 3200, step 3200, agent=PearlAgent with NeuralLinearBandit, FIFOOffPolicyReplayBuffer, env=Contextual bandits with CB datasets\n",
            "return: 1.0870246887207031\n",
            "episode 3300, step 3300, agent=PearlAgent with NeuralLinearBandit, FIFOOffPolicyReplayBuffer, env=Contextual bandits with CB datasets\n",
            "return: 1.0486077070236206\n",
            "episode 3400, step 3400, agent=PearlAgent with NeuralLinearBandit, FIFOOffPolicyReplayBuffer, env=Contextual bandits with CB datasets\n",
            "return: 0.9018763899803162\n",
            "episode 3500, step 3500, agent=PearlAgent with NeuralLinearBandit, FIFOOffPolicyReplayBuffer, env=Contextual bandits with CB datasets\n",
            "return: 1.0034971237182617\n",
            "episode 3600, step 3600, agent=PearlAgent with NeuralLinearBandit, FIFOOffPolicyReplayBuffer, env=Contextual bandits with CB datasets\n",
            "return: 0.9506497979164124\n",
            "episode 3700, step 3700, agent=PearlAgent with NeuralLinearBandit, FIFOOffPolicyReplayBuffer, env=Contextual bandits with CB datasets\n",
            "return: 1.1082403659820557\n",
            "episode 3800, step 3800, agent=PearlAgent with NeuralLinearBandit, FIFOOffPolicyReplayBuffer, env=Contextual bandits with CB datasets\n",
            "return: 1.156396746635437\n",
            "episode 3900, step 3900, agent=PearlAgent with NeuralLinearBandit, FIFOOffPolicyReplayBuffer, env=Contextual bandits with CB datasets\n",
            "return: 1.0014032125473022\n",
            "episode 4000, step 4000, agent=PearlAgent with NeuralLinearBandit, FIFOOffPolicyReplayBuffer, env=Contextual bandits with CB datasets\n",
            "return: 1.1625545024871826\n",
            "episode 4100, step 4100, agent=PearlAgent with NeuralLinearBandit, FIFOOffPolicyReplayBuffer, env=Contextual bandits with CB datasets\n",
            "return: 1.2459352016448975\n",
            "episode 4200, step 4200, agent=PearlAgent with NeuralLinearBandit, FIFOOffPolicyReplayBuffer, env=Contextual bandits with CB datasets\n",
            "return: 0.889884352684021\n",
            "episode 4300, step 4300, agent=PearlAgent with NeuralLinearBandit, FIFOOffPolicyReplayBuffer, env=Contextual bandits with CB datasets\n",
            "return: 1.0633623600006104\n",
            "episode 4400, step 4400, agent=PearlAgent with NeuralLinearBandit, FIFOOffPolicyReplayBuffer, env=Contextual bandits with CB datasets\n",
            "return: 0.08850495517253876\n",
            "episode 4500, step 4500, agent=PearlAgent with NeuralLinearBandit, FIFOOffPolicyReplayBuffer, env=Contextual bandits with CB datasets\n",
            "return: 0.7982684373855591\n",
            "episode 4600, step 4600, agent=PearlAgent with NeuralLinearBandit, FIFOOffPolicyReplayBuffer, env=Contextual bandits with CB datasets\n",
            "return: 0.9511789679527283\n",
            "episode 4700, step 4700, agent=PearlAgent with NeuralLinearBandit, FIFOOffPolicyReplayBuffer, env=Contextual bandits with CB datasets\n",
            "return: 1.0553739070892334\n",
            "episode 4800, step 4800, agent=PearlAgent with NeuralLinearBandit, FIFOOffPolicyReplayBuffer, env=Contextual bandits with CB datasets\n",
            "return: 0.7381132245063782\n",
            "episode 4900, step 4900, agent=PearlAgent with NeuralLinearBandit, FIFOOffPolicyReplayBuffer, env=Contextual bandits with CB datasets\n",
            "return: 1.0709494352340698\n",
            "episode 5000, step 5000, agent=PearlAgent with NeuralLinearBandit, FIFOOffPolicyReplayBuffer, env=Contextual bandits with CB datasets\n",
            "return: 1.0041077136993408\n",
            "episode 5100, step 5100, agent=PearlAgent with NeuralLinearBandit, FIFOOffPolicyReplayBuffer, env=Contextual bandits with CB datasets\n",
            "return: 0.1710326075553894\n",
            "episode 5200, step 5200, agent=PearlAgent with NeuralLinearBandit, FIFOOffPolicyReplayBuffer, env=Contextual bandits with CB datasets\n",
            "return: 1.0599743127822876\n",
            "episode 5300, step 5300, agent=PearlAgent with NeuralLinearBandit, FIFOOffPolicyReplayBuffer, env=Contextual bandits with CB datasets\n",
            "return: 1.074434518814087\n",
            "episode 5400, step 5400, agent=PearlAgent with NeuralLinearBandit, FIFOOffPolicyReplayBuffer, env=Contextual bandits with CB datasets\n",
            "return: 0.936264157295227\n",
            "episode 5500, step 5500, agent=PearlAgent with NeuralLinearBandit, FIFOOffPolicyReplayBuffer, env=Contextual bandits with CB datasets\n",
            "return: 1.065281629562378\n",
            "episode 5600, step 5600, agent=PearlAgent with NeuralLinearBandit, FIFOOffPolicyReplayBuffer, env=Contextual bandits with CB datasets\n",
            "return: 0.9352773427963257\n",
            "episode 5700, step 5700, agent=PearlAgent with NeuralLinearBandit, FIFOOffPolicyReplayBuffer, env=Contextual bandits with CB datasets\n",
            "return: 0.8134567141532898\n",
            "episode 5800, step 5800, agent=PearlAgent with NeuralLinearBandit, FIFOOffPolicyReplayBuffer, env=Contextual bandits with CB datasets\n",
            "return: 0.8990450501441956\n",
            "episode 5900, step 5900, agent=PearlAgent with NeuralLinearBandit, FIFOOffPolicyReplayBuffer, env=Contextual bandits with CB datasets\n",
            "return: 1.0666414499282837\n",
            "episode 6000, step 6000, agent=PearlAgent with NeuralLinearBandit, FIFOOffPolicyReplayBuffer, env=Contextual bandits with CB datasets\n",
            "return: 0.9457287192344666\n",
            "episode 6100, step 6100, agent=PearlAgent with NeuralLinearBandit, FIFOOffPolicyReplayBuffer, env=Contextual bandits with CB datasets\n",
            "return: 1.0635485649108887\n",
            "episode 6200, step 6200, agent=PearlAgent with NeuralLinearBandit, FIFOOffPolicyReplayBuffer, env=Contextual bandits with CB datasets\n",
            "return: 0.9951311945915222\n",
            "episode 6300, step 6300, agent=PearlAgent with NeuralLinearBandit, FIFOOffPolicyReplayBuffer, env=Contextual bandits with CB datasets\n",
            "return: 1.1063202619552612\n",
            "episode 6400, step 6400, agent=PearlAgent with NeuralLinearBandit, FIFOOffPolicyReplayBuffer, env=Contextual bandits with CB datasets\n",
            "return: 1.0361067056655884\n",
            "episode 6500, step 6500, agent=PearlAgent with NeuralLinearBandit, FIFOOffPolicyReplayBuffer, env=Contextual bandits with CB datasets\n",
            "return: 0.9866701364517212\n",
            "episode 6600, step 6600, agent=PearlAgent with NeuralLinearBandit, FIFOOffPolicyReplayBuffer, env=Contextual bandits with CB datasets\n",
            "return: 0.9718022346496582\n",
            "episode 6700, step 6700, agent=PearlAgent with NeuralLinearBandit, FIFOOffPolicyReplayBuffer, env=Contextual bandits with CB datasets\n",
            "return: 0.95516437292099\n",
            "episode 6800, step 6800, agent=PearlAgent with NeuralLinearBandit, FIFOOffPolicyReplayBuffer, env=Contextual bandits with CB datasets\n",
            "return: 0.9956871271133423\n",
            "episode 6900, step 6900, agent=PearlAgent with NeuralLinearBandit, FIFOOffPolicyReplayBuffer, env=Contextual bandits with CB datasets\n",
            "return: 1.0611385107040405\n",
            "episode 7000, step 7000, agent=PearlAgent with NeuralLinearBandit, FIFOOffPolicyReplayBuffer, env=Contextual bandits with CB datasets\n",
            "return: 0.9236329197883606\n",
            "episode 7100, step 7100, agent=PearlAgent with NeuralLinearBandit, FIFOOffPolicyReplayBuffer, env=Contextual bandits with CB datasets\n",
            "return: 1.0712831020355225\n",
            "episode 7200, step 7200, agent=PearlAgent with NeuralLinearBandit, FIFOOffPolicyReplayBuffer, env=Contextual bandits with CB datasets\n",
            "return: 0.9853823184967041\n",
            "episode 7300, step 7300, agent=PearlAgent with NeuralLinearBandit, FIFOOffPolicyReplayBuffer, env=Contextual bandits with CB datasets\n",
            "return: 1.0430004596710205\n",
            "episode 7400, step 7400, agent=PearlAgent with NeuralLinearBandit, FIFOOffPolicyReplayBuffer, env=Contextual bandits with CB datasets\n",
            "return: 1.0915601253509521\n",
            "episode 7500, step 7500, agent=PearlAgent with NeuralLinearBandit, FIFOOffPolicyReplayBuffer, env=Contextual bandits with CB datasets\n",
            "return: 0.8564046621322632\n",
            "episode 7600, step 7600, agent=PearlAgent with NeuralLinearBandit, FIFOOffPolicyReplayBuffer, env=Contextual bandits with CB datasets\n",
            "return: 1.0255546569824219\n",
            "episode 7700, step 7700, agent=PearlAgent with NeuralLinearBandit, FIFOOffPolicyReplayBuffer, env=Contextual bandits with CB datasets\n",
            "return: 0.8923426866531372\n",
            "episode 7800, step 7800, agent=PearlAgent with NeuralLinearBandit, FIFOOffPolicyReplayBuffer, env=Contextual bandits with CB datasets\n",
            "return: 1.1250450611114502\n",
            "episode 7900, step 7900, agent=PearlAgent with NeuralLinearBandit, FIFOOffPolicyReplayBuffer, env=Contextual bandits with CB datasets\n",
            "return: 0.9440849423408508\n",
            "episode 8000, step 8000, agent=PearlAgent with NeuralLinearBandit, FIFOOffPolicyReplayBuffer, env=Contextual bandits with CB datasets\n",
            "return: 0.8757355213165283\n",
            "episode 8100, step 8100, agent=PearlAgent with NeuralLinearBandit, FIFOOffPolicyReplayBuffer, env=Contextual bandits with CB datasets\n",
            "return: 0.9380690455436707\n",
            "episode 8200, step 8200, agent=PearlAgent with NeuralLinearBandit, FIFOOffPolicyReplayBuffer, env=Contextual bandits with CB datasets\n",
            "return: 1.0585434436798096\n",
            "episode 8300, step 8300, agent=PearlAgent with NeuralLinearBandit, FIFOOffPolicyReplayBuffer, env=Contextual bandits with CB datasets\n",
            "return: 1.0659244060516357\n",
            "episode 8400, step 8400, agent=PearlAgent with NeuralLinearBandit, FIFOOffPolicyReplayBuffer, env=Contextual bandits with CB datasets\n",
            "return: 0.9526666402816772\n",
            "episode 8500, step 8500, agent=PearlAgent with NeuralLinearBandit, FIFOOffPolicyReplayBuffer, env=Contextual bandits with CB datasets\n",
            "return: 0.9757660031318665\n",
            "episode 8600, step 8600, agent=PearlAgent with NeuralLinearBandit, FIFOOffPolicyReplayBuffer, env=Contextual bandits with CB datasets\n",
            "return: 1.0045894384384155\n",
            "episode 8700, step 8700, agent=PearlAgent with NeuralLinearBandit, FIFOOffPolicyReplayBuffer, env=Contextual bandits with CB datasets\n",
            "return: 0.8647818565368652\n",
            "episode 8800, step 8800, agent=PearlAgent with NeuralLinearBandit, FIFOOffPolicyReplayBuffer, env=Contextual bandits with CB datasets\n",
            "return: 0.9981588125228882\n",
            "episode 8900, step 8900, agent=PearlAgent with NeuralLinearBandit, FIFOOffPolicyReplayBuffer, env=Contextual bandits with CB datasets\n",
            "return: 0.9995661377906799\n",
            "episode 9000, step 9000, agent=PearlAgent with NeuralLinearBandit, FIFOOffPolicyReplayBuffer, env=Contextual bandits with CB datasets\n",
            "return: 0.9929297566413879\n",
            "episode 9100, step 9100, agent=PearlAgent with NeuralLinearBandit, FIFOOffPolicyReplayBuffer, env=Contextual bandits with CB datasets\n",
            "return: 1.0528777837753296\n",
            "episode 9200, step 9200, agent=PearlAgent with NeuralLinearBandit, FIFOOffPolicyReplayBuffer, env=Contextual bandits with CB datasets\n",
            "return: 1.0025759935379028\n",
            "episode 9300, step 9300, agent=PearlAgent with NeuralLinearBandit, FIFOOffPolicyReplayBuffer, env=Contextual bandits with CB datasets\n",
            "return: 1.1606420278549194\n",
            "episode 9400, step 9400, agent=PearlAgent with NeuralLinearBandit, FIFOOffPolicyReplayBuffer, env=Contextual bandits with CB datasets\n",
            "return: 0.8390303254127502\n",
            "episode 9500, step 9500, agent=PearlAgent with NeuralLinearBandit, FIFOOffPolicyReplayBuffer, env=Contextual bandits with CB datasets\n",
            "return: 0.988869309425354\n",
            "episode 9600, step 9600, agent=PearlAgent with NeuralLinearBandit, FIFOOffPolicyReplayBuffer, env=Contextual bandits with CB datasets\n",
            "return: 0.8201045989990234\n",
            "episode 9700, step 9700, agent=PearlAgent with NeuralLinearBandit, FIFOOffPolicyReplayBuffer, env=Contextual bandits with CB datasets\n",
            "return: 1.171656608581543\n",
            "episode 9800, step 9800, agent=PearlAgent with NeuralLinearBandit, FIFOOffPolicyReplayBuffer, env=Contextual bandits with CB datasets\n",
            "return: 1.1802815198898315\n",
            "episode 9900, step 9900, agent=PearlAgent with NeuralLinearBandit, FIFOOffPolicyReplayBuffer, env=Contextual bandits with CB datasets\n",
            "return: 0.9342361092567444\n",
            "episode 10000, step 10000, agent=PearlAgent with NeuralLinearBandit, FIFOOffPolicyReplayBuffer, env=Contextual bandits with CB datasets\n",
            "return: 1.2010207176208496\n"
          ]
        },
        {
          "data": {
            "image/png": "[encoded data removed]",
            "text/plain": [
              "<Figure size 1500x1000 with 1 Axes>"
            ]
          },
          "metadata": {},
          "output_type": "display_data"
        }
      ],
      "source": [
        "# Create a Neural LinUCB Pearl agent with one-hot action representation\n",
        "\n",
        "action_representation_module = OneHotActionTensorRepresentationModule(\n",
        "    max_number_actions= env._action_space.n,\n",
        ")\n",
        "\n",
        "agent = PearlAgent(\n",
        "    policy_learner=NeuralLinearBandit(\n",
        "        feature_dim = env.observation_dim + env._action_space.n,\n",
        "        hidden_dims=[64, 16],\n",
        "        training_rounds=50,\n",
        "        action_representation_module=action_representation_module,\n",
        "        exploration_module=UCBExploration(alpha=1.0)\n",
        "    ),\n",
        "    replay_buffer=FIFOOffPolicyReplayBuffer(100_000),\n",
        "    device_id=-1,\n",
        ")\n",
        "\n",
        "info = online_learning(\n",
        "    agent=agent,\n",
        "    env=env,\n",
        "    number_of_steps=number_of_steps,\n",
        "    print_every_x_steps=100,\n",
        "    record_period=record_period,\n",
        "    learn_after_episode=True,\n",
        ")\n",
        "\n",
        "torch.save(info[\"return\"], \"LinUCB-return.pt\")\n",
        "plt.plot(record_period * np.arange(len(info[\"return\"])), info[\"return\"], label=\"LinUCB\")\n",
        "plt.xlabel(\"time step\")\n",
        "plt.ylabel(\"return\")\n",
        "plt.legend()\n",
        "plt.show()"
      ]
    },
    {
      "attachments": {},
      "cell_type": "markdown",
      "metadata": {
        "id": "pm18iQ_2LNGS"
      },
      "source": [
        "## Summary\n",
        "In this example, we showed how to use popular contextual bandits algorithms in Pearl."
      ]
    }
  ],
  "metadata": {
    "custom": {
      "cells": [],
      "metadata": {
        "custom": {
          "cells": [],
          "metadata": {
            "custom": {
              "cells": [],
              "metadata": {
                "custom": {
                  "cells": [],
                  "metadata": {
                    "accelerator": "GPU",
                    "colab": {
                      "gpuType": "T4",
                      "include_colab_link": true,
                      "provenance": []
                    },
                    "fileHeader": "",
                    "fileUid": "4316417e-7688-45f2-a94f-24148bfc425e",
                    "isAdHoc": false,
                    "kernelspec": {
                      "display_name": "pearl (local)",
                      "language": "python",
                      "name": "pearl_local"
                    },
                    "language_info": {
                      "name": "python"
                    }
                  },
                  "nbformat": 4,
                  "nbformat_minor": 2
                },
                "fileHeader": "",
                "fileUid": "1158a851-91bb-437e-a391-aba92448f600",
                "indentAmount": 2,
                "isAdHoc": false,
                "language_info": {
                  "name": "plaintext"
                }
              },
              "nbformat": 4,
              "nbformat_minor": 2
            },
            "fileHeader": "",
            "fileUid": "06710d6d-2a6b-4a80-a1f7-31b8d3b7c146",
            "indentAmount": 2,
            "isAdHoc": false,
            "language_info": {
              "name": "plaintext"
            }
          },
          "nbformat": 4,
          "nbformat_minor": 2
        },
        "fileHeader": "",
        "fileUid": "e7c10986-b495-4f0d-ad5e-f1a8296807f4",
        "indentAmount": 2,
        "isAdHoc": false,
        "kernelspec": {
          "display_name": "pearl",
          "language": "python",
          "name": "bento_kernel_pearl"
        },
        "language_info": {
          "name": "plaintext"
        }
      },
      "nbformat": 4,
      "nbformat_minor": 2
    },
    "indentAmount": 2
  },
  "nbformat": 4,
  "nbformat_minor": 2
}
